{
 "cells": [
  {
   "cell_type": "markdown",
   "id": "b47fa382",
   "metadata": {},
   "source": [
    "<h1 align='center'>Movie Recommendation System</h1>"
   ]
  },
  {
   "cell_type": "markdown",
   "id": "92452819",
   "metadata": {},
   "source": [
    "# Data Preprocessing"
   ]
  },
  {
   "cell_type": "markdown",
   "id": "2bf84990",
   "metadata": {},
   "source": [
    "## Importing and Exploring Data"
   ]
  },
  {
   "cell_type": "code",
   "execution_count": 1,
   "id": "298713c5",
   "metadata": {},
   "outputs": [],
   "source": [
    "import pandas as pd\n",
    "import numpy as np"
   ]
  },
  {
   "cell_type": "code",
   "execution_count": 2,
   "id": "1ecc2a55",
   "metadata": {},
   "outputs": [
    {
     "data": {
      "text/html": [
       "<div>\n",
       "<style scoped>\n",
       "    .dataframe tbody tr th:only-of-type {\n",
       "        vertical-align: middle;\n",
       "    }\n",
       "\n",
       "    .dataframe tbody tr th {\n",
       "        vertical-align: top;\n",
       "    }\n",
       "\n",
       "    .dataframe thead th {\n",
       "        text-align: right;\n",
       "    }\n",
       "</style>\n",
       "<table border=\"1\" class=\"dataframe\">\n",
       "  <thead>\n",
       "    <tr style=\"text-align: right;\">\n",
       "      <th></th>\n",
       "      <th>id</th>\n",
       "      <th>title</th>\n",
       "      <th>vote_average</th>\n",
       "      <th>vote_count</th>\n",
       "      <th>status</th>\n",
       "      <th>release_date</th>\n",
       "      <th>revenue</th>\n",
       "      <th>runtime</th>\n",
       "      <th>adult</th>\n",
       "      <th>backdrop_path</th>\n",
       "      <th>...</th>\n",
       "      <th>original_title</th>\n",
       "      <th>overview</th>\n",
       "      <th>popularity</th>\n",
       "      <th>poster_path</th>\n",
       "      <th>tagline</th>\n",
       "      <th>genres</th>\n",
       "      <th>production_companies</th>\n",
       "      <th>production_countries</th>\n",
       "      <th>spoken_languages</th>\n",
       "      <th>keywords</th>\n",
       "    </tr>\n",
       "  </thead>\n",
       "  <tbody>\n",
       "    <tr>\n",
       "      <th>0</th>\n",
       "      <td>27205</td>\n",
       "      <td>Inception</td>\n",
       "      <td>8.364</td>\n",
       "      <td>34495</td>\n",
       "      <td>Released</td>\n",
       "      <td>2010-07-15</td>\n",
       "      <td>825532764</td>\n",
       "      <td>148</td>\n",
       "      <td>False</td>\n",
       "      <td>/8ZTVqvKDQ8emSGUEMjsS4yHAwrp.jpg</td>\n",
       "      <td>...</td>\n",
       "      <td>Inception</td>\n",
       "      <td>Cobb, a skilled thief who commits corporate es...</td>\n",
       "      <td>83.952</td>\n",
       "      <td>/oYuLEt3zVCKq57qu2F8dT7NIa6f.jpg</td>\n",
       "      <td>Your mind is the scene of the crime.</td>\n",
       "      <td>Action, Science Fiction, Adventure</td>\n",
       "      <td>Legendary Pictures, Syncopy, Warner Bros. Pict...</td>\n",
       "      <td>United Kingdom, United States of America</td>\n",
       "      <td>English, French, Japanese, Swahili</td>\n",
       "      <td>rescue, mission, dream, airplane, paris, franc...</td>\n",
       "    </tr>\n",
       "    <tr>\n",
       "      <th>1</th>\n",
       "      <td>157336</td>\n",
       "      <td>Interstellar</td>\n",
       "      <td>8.417</td>\n",
       "      <td>32571</td>\n",
       "      <td>Released</td>\n",
       "      <td>2014-11-05</td>\n",
       "      <td>701729206</td>\n",
       "      <td>169</td>\n",
       "      <td>False</td>\n",
       "      <td>/pbrkL804c8yAv3zBZR4QPEafpAR.jpg</td>\n",
       "      <td>...</td>\n",
       "      <td>Interstellar</td>\n",
       "      <td>The adventures of a group of explorers who mak...</td>\n",
       "      <td>140.241</td>\n",
       "      <td>/gEU2QniE6E77NI6lCU6MxlNBvIx.jpg</td>\n",
       "      <td>Mankind was born on Earth. It was never meant ...</td>\n",
       "      <td>Adventure, Drama, Science Fiction</td>\n",
       "      <td>Legendary Pictures, Syncopy, Lynda Obst Produc...</td>\n",
       "      <td>United Kingdom, United States of America</td>\n",
       "      <td>English</td>\n",
       "      <td>rescue, future, spacecraft, race against time,...</td>\n",
       "    </tr>\n",
       "    <tr>\n",
       "      <th>2</th>\n",
       "      <td>155</td>\n",
       "      <td>The Dark Knight</td>\n",
       "      <td>8.512</td>\n",
       "      <td>30619</td>\n",
       "      <td>Released</td>\n",
       "      <td>2008-07-16</td>\n",
       "      <td>1004558444</td>\n",
       "      <td>152</td>\n",
       "      <td>False</td>\n",
       "      <td>/nMKdUUepR0i5zn0y1T4CsSB5chy.jpg</td>\n",
       "      <td>...</td>\n",
       "      <td>The Dark Knight</td>\n",
       "      <td>Batman raises the stakes in his war on crime. ...</td>\n",
       "      <td>130.643</td>\n",
       "      <td>/qJ2tW6WMUDux911r6m7haRef0WH.jpg</td>\n",
       "      <td>Welcome to a world without rules.</td>\n",
       "      <td>Drama, Action, Crime, Thriller</td>\n",
       "      <td>DC Comics, Legendary Pictures, Syncopy, Isobel...</td>\n",
       "      <td>United Kingdom, United States of America</td>\n",
       "      <td>English, Mandarin</td>\n",
       "      <td>joker, sadism, chaos, secret identity, crime f...</td>\n",
       "    </tr>\n",
       "  </tbody>\n",
       "</table>\n",
       "<p>3 rows × 24 columns</p>\n",
       "</div>"
      ],
      "text/plain": [
       "       id            title  vote_average  vote_count    status release_date   \n",
       "0   27205        Inception         8.364       34495  Released   2010-07-15  \\\n",
       "1  157336     Interstellar         8.417       32571  Released   2014-11-05   \n",
       "2     155  The Dark Knight         8.512       30619  Released   2008-07-16   \n",
       "\n",
       "      revenue  runtime  adult                     backdrop_path  ...   \n",
       "0   825532764      148  False  /8ZTVqvKDQ8emSGUEMjsS4yHAwrp.jpg  ...  \\\n",
       "1   701729206      169  False  /pbrkL804c8yAv3zBZR4QPEafpAR.jpg  ...   \n",
       "2  1004558444      152  False  /nMKdUUepR0i5zn0y1T4CsSB5chy.jpg  ...   \n",
       "\n",
       "    original_title                                           overview   \n",
       "0        Inception  Cobb, a skilled thief who commits corporate es...  \\\n",
       "1     Interstellar  The adventures of a group of explorers who mak...   \n",
       "2  The Dark Knight  Batman raises the stakes in his war on crime. ...   \n",
       "\n",
       "  popularity                       poster_path   \n",
       "0     83.952  /oYuLEt3zVCKq57qu2F8dT7NIa6f.jpg  \\\n",
       "1    140.241  /gEU2QniE6E77NI6lCU6MxlNBvIx.jpg   \n",
       "2    130.643  /qJ2tW6WMUDux911r6m7haRef0WH.jpg   \n",
       "\n",
       "                                             tagline   \n",
       "0               Your mind is the scene of the crime.  \\\n",
       "1  Mankind was born on Earth. It was never meant ...   \n",
       "2                  Welcome to a world without rules.   \n",
       "\n",
       "                               genres   \n",
       "0  Action, Science Fiction, Adventure  \\\n",
       "1   Adventure, Drama, Science Fiction   \n",
       "2      Drama, Action, Crime, Thriller   \n",
       "\n",
       "                                production_companies   \n",
       "0  Legendary Pictures, Syncopy, Warner Bros. Pict...  \\\n",
       "1  Legendary Pictures, Syncopy, Lynda Obst Produc...   \n",
       "2  DC Comics, Legendary Pictures, Syncopy, Isobel...   \n",
       "\n",
       "                       production_countries   \n",
       "0  United Kingdom, United States of America  \\\n",
       "1  United Kingdom, United States of America   \n",
       "2  United Kingdom, United States of America   \n",
       "\n",
       "                     spoken_languages   \n",
       "0  English, French, Japanese, Swahili  \\\n",
       "1                             English   \n",
       "2                   English, Mandarin   \n",
       "\n",
       "                                            keywords  \n",
       "0  rescue, mission, dream, airplane, paris, franc...  \n",
       "1  rescue, future, spacecraft, race against time,...  \n",
       "2  joker, sadism, chaos, secret identity, crime f...  \n",
       "\n",
       "[3 rows x 24 columns]"
      ]
     },
     "execution_count": 2,
     "metadata": {},
     "output_type": "execute_result"
    }
   ],
   "source": [
    "df = pd.read_csv('./archive/TMDB_movie_dataset_v11.csv')\n",
    "df.head(3)"
   ]
  },
  {
   "cell_type": "code",
   "execution_count": 3,
   "id": "b9f2d3f7",
   "metadata": {},
   "outputs": [
    {
     "data": {
      "text/html": [
       "<div>\n",
       "<style scoped>\n",
       "    .dataframe tbody tr th:only-of-type {\n",
       "        vertical-align: middle;\n",
       "    }\n",
       "\n",
       "    .dataframe tbody tr th {\n",
       "        vertical-align: top;\n",
       "    }\n",
       "\n",
       "    .dataframe thead th {\n",
       "        text-align: right;\n",
       "    }\n",
       "</style>\n",
       "<table border=\"1\" class=\"dataframe\">\n",
       "  <thead>\n",
       "    <tr style=\"text-align: right;\">\n",
       "      <th></th>\n",
       "      <th>title</th>\n",
       "      <th>overview</th>\n",
       "      <th>keywords</th>\n",
       "      <th>genres</th>\n",
       "      <th>vote_average</th>\n",
       "      <th>vote_count</th>\n",
       "      <th>popularity</th>\n",
       "      <th>revenue</th>\n",
       "      <th>original_language</th>\n",
       "      <th>spoken_languages</th>\n",
       "    </tr>\n",
       "  </thead>\n",
       "  <tbody>\n",
       "    <tr>\n",
       "      <th>0</th>\n",
       "      <td>Inception</td>\n",
       "      <td>Cobb, a skilled thief who commits corporate es...</td>\n",
       "      <td>rescue, mission, dream, airplane, paris, franc...</td>\n",
       "      <td>Action, Science Fiction, Adventure</td>\n",
       "      <td>8.364</td>\n",
       "      <td>34495</td>\n",
       "      <td>83.952</td>\n",
       "      <td>825532764</td>\n",
       "      <td>en</td>\n",
       "      <td>English, French, Japanese, Swahili</td>\n",
       "    </tr>\n",
       "    <tr>\n",
       "      <th>1</th>\n",
       "      <td>Interstellar</td>\n",
       "      <td>The adventures of a group of explorers who mak...</td>\n",
       "      <td>rescue, future, spacecraft, race against time,...</td>\n",
       "      <td>Adventure, Drama, Science Fiction</td>\n",
       "      <td>8.417</td>\n",
       "      <td>32571</td>\n",
       "      <td>140.241</td>\n",
       "      <td>701729206</td>\n",
       "      <td>en</td>\n",
       "      <td>English</td>\n",
       "    </tr>\n",
       "    <tr>\n",
       "      <th>2</th>\n",
       "      <td>The Dark Knight</td>\n",
       "      <td>Batman raises the stakes in his war on crime. ...</td>\n",
       "      <td>joker, sadism, chaos, secret identity, crime f...</td>\n",
       "      <td>Drama, Action, Crime, Thriller</td>\n",
       "      <td>8.512</td>\n",
       "      <td>30619</td>\n",
       "      <td>130.643</td>\n",
       "      <td>1004558444</td>\n",
       "      <td>en</td>\n",
       "      <td>English, Mandarin</td>\n",
       "    </tr>\n",
       "    <tr>\n",
       "      <th>3</th>\n",
       "      <td>Avatar</td>\n",
       "      <td>In the 22nd century, a paraplegic Marine is di...</td>\n",
       "      <td>future, society, culture clash, space travel, ...</td>\n",
       "      <td>Action, Adventure, Fantasy, Science Fiction</td>\n",
       "      <td>7.573</td>\n",
       "      <td>29815</td>\n",
       "      <td>79.932</td>\n",
       "      <td>2923706026</td>\n",
       "      <td>en</td>\n",
       "      <td>English, Spanish</td>\n",
       "    </tr>\n",
       "    <tr>\n",
       "      <th>4</th>\n",
       "      <td>The Avengers</td>\n",
       "      <td>When an unexpected enemy emerges and threatens...</td>\n",
       "      <td>new york city, superhero, shield, based on com...</td>\n",
       "      <td>Science Fiction, Action, Adventure</td>\n",
       "      <td>7.710</td>\n",
       "      <td>29166</td>\n",
       "      <td>98.082</td>\n",
       "      <td>1518815515</td>\n",
       "      <td>en</td>\n",
       "      <td>English, Hindi, Russian</td>\n",
       "    </tr>\n",
       "  </tbody>\n",
       "</table>\n",
       "</div>"
      ],
      "text/plain": [
       "             title                                           overview   \n",
       "0        Inception  Cobb, a skilled thief who commits corporate es...  \\\n",
       "1     Interstellar  The adventures of a group of explorers who mak...   \n",
       "2  The Dark Knight  Batman raises the stakes in his war on crime. ...   \n",
       "3           Avatar  In the 22nd century, a paraplegic Marine is di...   \n",
       "4     The Avengers  When an unexpected enemy emerges and threatens...   \n",
       "\n",
       "                                            keywords   \n",
       "0  rescue, mission, dream, airplane, paris, franc...  \\\n",
       "1  rescue, future, spacecraft, race against time,...   \n",
       "2  joker, sadism, chaos, secret identity, crime f...   \n",
       "3  future, society, culture clash, space travel, ...   \n",
       "4  new york city, superhero, shield, based on com...   \n",
       "\n",
       "                                        genres  vote_average  vote_count   \n",
       "0           Action, Science Fiction, Adventure         8.364       34495  \\\n",
       "1            Adventure, Drama, Science Fiction         8.417       32571   \n",
       "2               Drama, Action, Crime, Thriller         8.512       30619   \n",
       "3  Action, Adventure, Fantasy, Science Fiction         7.573       29815   \n",
       "4           Science Fiction, Action, Adventure         7.710       29166   \n",
       "\n",
       "   popularity     revenue original_language   \n",
       "0      83.952   825532764                en  \\\n",
       "1     140.241   701729206                en   \n",
       "2     130.643  1004558444                en   \n",
       "3      79.932  2923706026                en   \n",
       "4      98.082  1518815515                en   \n",
       "\n",
       "                     spoken_languages  \n",
       "0  English, French, Japanese, Swahili  \n",
       "1                             English  \n",
       "2                   English, Mandarin  \n",
       "3                    English, Spanish  \n",
       "4             English, Hindi, Russian  "
      ]
     },
     "execution_count": 3,
     "metadata": {},
     "output_type": "execute_result"
    }
   ],
   "source": [
    "df[['title', 'overview', 'keywords', 'genres',\n",
    "    'vote_average', 'vote_count', 'popularity', 'revenue', 'original_language', 'spoken_languages']].head()"
   ]
  },
  {
   "cell_type": "code",
   "execution_count": 4,
   "id": "f90f5af1",
   "metadata": {},
   "outputs": [],
   "source": [
    "df1 = df[['title', 'overview', 'keywords', 'genres', 'original_language', 'spoken_languages',\n",
    "    'vote_average', 'vote_count', 'popularity', 'revenue']]"
   ]
  },
  {
   "cell_type": "code",
   "execution_count": 155,
   "id": "8c2a3199",
   "metadata": {},
   "outputs": [
    {
     "name": "stdout",
     "output_type": "stream",
     "text": [
      "title                    13\n",
      "overview             269726\n",
      "keywords             926845\n",
      "genres               525035\n",
      "original_language         0\n",
      "spoken_languages     556383\n",
      "vote_average              0\n",
      "vote_count                0\n",
      "popularity                0\n",
      "revenue                   0\n",
      "dtype: int64\n",
      "(1252166, 10)\n"
     ]
    }
   ],
   "source": [
    "print(df1.isnull().sum())\n",
    "print(df1.shape)"
   ]
  },
  {
   "cell_type": "code",
   "execution_count": 10,
   "id": "6c17318d",
   "metadata": {},
   "outputs": [
    {
     "data": {
      "text/plain": [
       "(1069315, 10)"
      ]
     },
     "execution_count": 10,
     "metadata": {},
     "output_type": "execute_result"
    }
   ],
   "source": [
    "df1 = df1.drop_duplicates(subset=['title'], keep='first')\n",
    "df1.shape"
   ]
  },
  {
   "cell_type": "code",
   "execution_count": 11,
   "id": "c2c8fb7d",
   "metadata": {},
   "outputs": [
    {
     "name": "stdout",
     "output_type": "stream",
     "text": [
      "title                0\n",
      "overview             0\n",
      "keywords             0\n",
      "genres               0\n",
      "original_language    0\n",
      "spoken_languages     0\n",
      "vote_average         0\n",
      "vote_count           0\n",
      "popularity           0\n",
      "revenue              0\n",
      "dtype: int64\n",
      "(199767, 10)\n"
     ]
    }
   ],
   "source": [
    "df2 = df1.copy()\n",
    "df2 = df2.dropna(subset=['title', 'overview', 'genres', 'keywords'])\n",
    "df2['spoken_languages'] = df2['spoken_languages'].fillna('')\n",
    "\n",
    "print(df2.isnull().sum())\n",
    "print(df2.shape)"
   ]
  },
  {
   "cell_type": "code",
   "execution_count": 12,
   "id": "50305c3a",
   "metadata": {},
   "outputs": [],
   "source": [
    "# Split comma-separated values\n",
    "def split_comma_sep_values(column):\n",
    "    return column.apply(\n",
    "        lambda x: [item.strip() for item in x.split(',')]\n",
    "        if pd.notnull(x) else []\n",
    "    )\n",
    "\n",
    "def split_space_sep_values(column):\n",
    "    return column.apply(\n",
    "        lambda x: [item.strip() for item in x.split(' ')]\n",
    "        if pd.notnull(x) else []\n",
    "    )"
   ]
  },
  {
   "cell_type": "code",
   "execution_count": 13,
   "id": "eda34bee",
   "metadata": {},
   "outputs": [
    {
     "data": {
      "text/html": [
       "<div>\n",
       "<style scoped>\n",
       "    .dataframe tbody tr th:only-of-type {\n",
       "        vertical-align: middle;\n",
       "    }\n",
       "\n",
       "    .dataframe tbody tr th {\n",
       "        vertical-align: top;\n",
       "    }\n",
       "\n",
       "    .dataframe thead th {\n",
       "        text-align: right;\n",
       "    }\n",
       "</style>\n",
       "<table border=\"1\" class=\"dataframe\">\n",
       "  <thead>\n",
       "    <tr style=\"text-align: right;\">\n",
       "      <th></th>\n",
       "      <th>title</th>\n",
       "      <th>overview</th>\n",
       "      <th>keywords</th>\n",
       "      <th>genres</th>\n",
       "      <th>original_language</th>\n",
       "      <th>spoken_languages</th>\n",
       "      <th>vote_average</th>\n",
       "      <th>vote_count</th>\n",
       "      <th>popularity</th>\n",
       "      <th>revenue</th>\n",
       "    </tr>\n",
       "  </thead>\n",
       "  <tbody>\n",
       "    <tr>\n",
       "      <th>0</th>\n",
       "      <td>[Inception]</td>\n",
       "      <td>[Cobb,, a, skilled, thief, who, commits, corpo...</td>\n",
       "      <td>[rescue, mission, dream, airplane, paris, fran...</td>\n",
       "      <td>[Action, Science Fiction, Adventure]</td>\n",
       "      <td>[en]</td>\n",
       "      <td>[English, French, Japanese, Swahili]</td>\n",
       "      <td>8.364</td>\n",
       "      <td>34495</td>\n",
       "      <td>83.952</td>\n",
       "      <td>825532764</td>\n",
       "    </tr>\n",
       "    <tr>\n",
       "      <th>1</th>\n",
       "      <td>[Interstellar]</td>\n",
       "      <td>[The, adventures, of, a, group, of, explorers,...</td>\n",
       "      <td>[rescue, future, spacecraft, race against time...</td>\n",
       "      <td>[Adventure, Drama, Science Fiction]</td>\n",
       "      <td>[en]</td>\n",
       "      <td>[English]</td>\n",
       "      <td>8.417</td>\n",
       "      <td>32571</td>\n",
       "      <td>140.241</td>\n",
       "      <td>701729206</td>\n",
       "    </tr>\n",
       "    <tr>\n",
       "      <th>2</th>\n",
       "      <td>[The, Dark, Knight]</td>\n",
       "      <td>[Batman, raises, the, stakes, in, his, war, on...</td>\n",
       "      <td>[joker, sadism, chaos, secret identity, crime ...</td>\n",
       "      <td>[Drama, Action, Crime, Thriller]</td>\n",
       "      <td>[en]</td>\n",
       "      <td>[English, Mandarin]</td>\n",
       "      <td>8.512</td>\n",
       "      <td>30619</td>\n",
       "      <td>130.643</td>\n",
       "      <td>1004558444</td>\n",
       "    </tr>\n",
       "  </tbody>\n",
       "</table>\n",
       "</div>"
      ],
      "text/plain": [
       "                 title                                           overview   \n",
       "0          [Inception]  [Cobb,, a, skilled, thief, who, commits, corpo...  \\\n",
       "1       [Interstellar]  [The, adventures, of, a, group, of, explorers,...   \n",
       "2  [The, Dark, Knight]  [Batman, raises, the, stakes, in, his, war, on...   \n",
       "\n",
       "                                            keywords   \n",
       "0  [rescue, mission, dream, airplane, paris, fran...  \\\n",
       "1  [rescue, future, spacecraft, race against time...   \n",
       "2  [joker, sadism, chaos, secret identity, crime ...   \n",
       "\n",
       "                                 genres original_language   \n",
       "0  [Action, Science Fiction, Adventure]              [en]  \\\n",
       "1   [Adventure, Drama, Science Fiction]              [en]   \n",
       "2      [Drama, Action, Crime, Thriller]              [en]   \n",
       "\n",
       "                       spoken_languages  vote_average  vote_count  popularity   \n",
       "0  [English, French, Japanese, Swahili]         8.364       34495      83.952  \\\n",
       "1                             [English]         8.417       32571     140.241   \n",
       "2                   [English, Mandarin]         8.512       30619     130.643   \n",
       "\n",
       "      revenue  \n",
       "0   825532764  \n",
       "1   701729206  \n",
       "2  1004558444  "
      ]
     },
     "execution_count": 13,
     "metadata": {},
     "output_type": "execute_result"
    }
   ],
   "source": [
    "df2['genres'] = split_comma_sep_values(df2['genres'])\n",
    "df2['keywords'] = split_comma_sep_values(df2['keywords'])\n",
    "df2['spoken_languages'] = split_comma_sep_values(df2['spoken_languages'])\n",
    "df2['original_language'] = split_comma_sep_values(df2['original_language'])\n",
    "\n",
    "df2['title'] = split_space_sep_values(df2['title'])\n",
    "df2['overview'] = split_space_sep_values(df2['overview'])\n",
    "\n",
    "df2.head(3)"
   ]
  },
  {
   "cell_type": "code",
   "execution_count": 14,
   "id": "cd506725",
   "metadata": {},
   "outputs": [
    {
     "data": {
      "text/plain": [
       "435"
      ]
     },
     "execution_count": 14,
     "metadata": {},
     "output_type": "execute_result"
    }
   ],
   "source": [
    "df2[df2['genres'].apply(len) > 5]['genres'].count()"
   ]
  },
  {
   "cell_type": "code",
   "execution_count": 15,
   "id": "34cf4ee5",
   "metadata": {},
   "outputs": [
    {
     "data": {
      "text/plain": [
       "1326"
      ]
     },
     "execution_count": 15,
     "metadata": {},
     "output_type": "execute_result"
    }
   ],
   "source": [
    "df2[df2['keywords'].apply(len) > 20]['keywords'].count()"
   ]
  },
  {
   "cell_type": "code",
   "execution_count": 16,
   "id": "8746c015",
   "metadata": {},
   "outputs": [
    {
     "data": {
      "text/plain": [
       "0"
      ]
     },
     "execution_count": 16,
     "metadata": {},
     "output_type": "execute_result"
    }
   ],
   "source": [
    "df2[df2['original_language'].apply(len) != 1]['original_language'].count()"
   ]
  },
  {
   "cell_type": "code",
   "execution_count": 17,
   "id": "9b0d9c73",
   "metadata": {},
   "outputs": [
    {
     "data": {
      "text/plain": [
       "241"
      ]
     },
     "execution_count": 17,
     "metadata": {},
     "output_type": "execute_result"
    }
   ],
   "source": [
    "df2[df2['spoken_languages'].apply(len) > 5]['spoken_languages'].count()"
   ]
  },
  {
   "cell_type": "code",
   "execution_count": 18,
   "id": "31bc55d7",
   "metadata": {},
   "outputs": [
    {
     "data": {
      "text/plain": [
       "4146"
      ]
     },
     "execution_count": 18,
     "metadata": {},
     "output_type": "execute_result"
    }
   ],
   "source": [
    "df2[df2['title'].apply(len) > 10]['title'].count()"
   ]
  },
  {
   "cell_type": "code",
   "execution_count": 19,
   "id": "d9686465",
   "metadata": {},
   "outputs": [
    {
     "data": {
      "text/plain": [
       "18569"
      ]
     },
     "execution_count": 19,
     "metadata": {},
     "output_type": "execute_result"
    }
   ],
   "source": [
    "df2[df2['overview'].apply(len) > 100]['overview'].count()"
   ]
  },
  {
   "cell_type": "code",
   "execution_count": 20,
   "id": "4571852e",
   "metadata": {},
   "outputs": [
    {
     "data": {
      "text/plain": [
       "(175963, 10)"
      ]
     },
     "execution_count": 20,
     "metadata": {},
     "output_type": "execute_result"
    }
   ],
   "source": [
    "df2 = df2[df2['genres'].apply(len) <= 5]\n",
    "df2 = df2[df2['keywords'].apply(len) <= 20]\n",
    "df2 = df2[df2['title'].apply(len) <= 10]\n",
    "df2 = df2[df2['overview'].apply(len) <= 100]\n",
    "df2 = df2[df2['spoken_languages'].apply(len) <= 5]\n",
    "\n",
    "df2.shape"
   ]
  },
  {
   "cell_type": "code",
   "execution_count": 21,
   "id": "07326e27",
   "metadata": {},
   "outputs": [
    {
     "data": {
      "text/plain": [
       "65091"
      ]
     },
     "execution_count": 21,
     "metadata": {},
     "output_type": "execute_result"
    }
   ],
   "source": [
    "df2[df2['vote_average'] == 0.00]['vote_average'].count()"
   ]
  },
  {
   "cell_type": "code",
   "execution_count": 22,
   "id": "6a6c8248",
   "metadata": {},
   "outputs": [
    {
     "data": {
      "text/plain": [
       "65036"
      ]
     },
     "execution_count": 22,
     "metadata": {},
     "output_type": "execute_result"
    }
   ],
   "source": [
    "df2[df2['vote_count'] == 0.00]['vote_count'].count()"
   ]
  },
  {
   "cell_type": "code",
   "execution_count": 23,
   "id": "90f39fba",
   "metadata": {},
   "outputs": [
    {
     "data": {
      "text/plain": [
       "5447"
      ]
     },
     "execution_count": 23,
     "metadata": {},
     "output_type": "execute_result"
    }
   ],
   "source": [
    "df2[df2['popularity'] == 0.00]['popularity'].count()"
   ]
  },
  {
   "cell_type": "code",
   "execution_count": 24,
   "id": "cbb06e72",
   "metadata": {},
   "outputs": [
    {
     "data": {
      "text/plain": [
       "163835"
      ]
     },
     "execution_count": 24,
     "metadata": {},
     "output_type": "execute_result"
    }
   ],
   "source": [
    "df2[df2['revenue'] == 0.00]['revenue'].count()"
   ]
  },
  {
   "cell_type": "code",
   "execution_count": 25,
   "id": "4e24bbe8",
   "metadata": {},
   "outputs": [
    {
     "data": {
      "text/plain": [
       "(110265, 10)"
      ]
     },
     "execution_count": 25,
     "metadata": {},
     "output_type": "execute_result"
    }
   ],
   "source": [
    "df2 = df2[df2['vote_average'] != 0]\n",
    "df2 = df2[df2['vote_count'] != 0]\n",
    "df2 = df2[df2['popularity'] != 0]\n",
    "\n",
    "df2.shape"
   ]
  },
  {
   "cell_type": "code",
   "execution_count": 26,
   "id": "be1696d3",
   "metadata": {},
   "outputs": [
    {
     "data": {
      "text/html": [
       "<div>\n",
       "<style scoped>\n",
       "    .dataframe tbody tr th:only-of-type {\n",
       "        vertical-align: middle;\n",
       "    }\n",
       "\n",
       "    .dataframe tbody tr th {\n",
       "        vertical-align: top;\n",
       "    }\n",
       "\n",
       "    .dataframe thead th {\n",
       "        text-align: right;\n",
       "    }\n",
       "</style>\n",
       "<table border=\"1\" class=\"dataframe\">\n",
       "  <thead>\n",
       "    <tr style=\"text-align: right;\">\n",
       "      <th></th>\n",
       "      <th>title</th>\n",
       "      <th>overview</th>\n",
       "      <th>keywords</th>\n",
       "      <th>genres</th>\n",
       "      <th>original_language</th>\n",
       "      <th>spoken_languages</th>\n",
       "      <th>vote_average</th>\n",
       "      <th>vote_count</th>\n",
       "      <th>popularity</th>\n",
       "      <th>weighted_avg_vote</th>\n",
       "      <th>weighted_avg_vote_log</th>\n",
       "      <th>popularity_log</th>\n",
       "    </tr>\n",
       "  </thead>\n",
       "  <tbody>\n",
       "    <tr>\n",
       "      <th>0</th>\n",
       "      <td>[Inception]</td>\n",
       "      <td>[Cobb,, a, skilled, thief, who, commits, corpo...</td>\n",
       "      <td>[rescue, mission, dream, airplane, paris, fran...</td>\n",
       "      <td>[Action, Science Fiction, Adventure]</td>\n",
       "      <td>[en]</td>\n",
       "      <td>[English, French, Japanese, Swahili]</td>\n",
       "      <td>8.364</td>\n",
       "      <td>34495</td>\n",
       "      <td>83.952</td>\n",
       "      <td>288516.180</td>\n",
       "      <td>12.572510</td>\n",
       "      <td>4.442086</td>\n",
       "    </tr>\n",
       "    <tr>\n",
       "      <th>2</th>\n",
       "      <td>[The, Dark, Knight]</td>\n",
       "      <td>[Batman, raises, the, stakes, in, his, war, on...</td>\n",
       "      <td>[joker, sadism, chaos, secret identity, crime ...</td>\n",
       "      <td>[Drama, Action, Crime, Thriller]</td>\n",
       "      <td>[en]</td>\n",
       "      <td>[English, Mandarin]</td>\n",
       "      <td>8.512</td>\n",
       "      <td>30619</td>\n",
       "      <td>130.643</td>\n",
       "      <td>260628.928</td>\n",
       "      <td>12.470857</td>\n",
       "      <td>4.880094</td>\n",
       "    </tr>\n",
       "    <tr>\n",
       "      <th>3</th>\n",
       "      <td>[Avatar]</td>\n",
       "      <td>[In, the, 22nd, century,, a, paraplegic, Marin...</td>\n",
       "      <td>[future, society, culture clash, space travel,...</td>\n",
       "      <td>[Action, Adventure, Fantasy, Science Fiction]</td>\n",
       "      <td>[en]</td>\n",
       "      <td>[English, Spanish]</td>\n",
       "      <td>7.573</td>\n",
       "      <td>29815</td>\n",
       "      <td>79.932</td>\n",
       "      <td>225788.995</td>\n",
       "      <td>12.327361</td>\n",
       "      <td>4.393609</td>\n",
       "    </tr>\n",
       "  </tbody>\n",
       "</table>\n",
       "</div>"
      ],
      "text/plain": [
       "                 title                                           overview   \n",
       "0          [Inception]  [Cobb,, a, skilled, thief, who, commits, corpo...  \\\n",
       "2  [The, Dark, Knight]  [Batman, raises, the, stakes, in, his, war, on...   \n",
       "3             [Avatar]  [In, the, 22nd, century,, a, paraplegic, Marin...   \n",
       "\n",
       "                                            keywords   \n",
       "0  [rescue, mission, dream, airplane, paris, fran...  \\\n",
       "2  [joker, sadism, chaos, secret identity, crime ...   \n",
       "3  [future, society, culture clash, space travel,...   \n",
       "\n",
       "                                          genres original_language   \n",
       "0           [Action, Science Fiction, Adventure]              [en]  \\\n",
       "2               [Drama, Action, Crime, Thriller]              [en]   \n",
       "3  [Action, Adventure, Fantasy, Science Fiction]              [en]   \n",
       "\n",
       "                       spoken_languages  vote_average  vote_count  popularity   \n",
       "0  [English, French, Japanese, Swahili]         8.364       34495      83.952  \\\n",
       "2                   [English, Mandarin]         8.512       30619     130.643   \n",
       "3                    [English, Spanish]         7.573       29815      79.932   \n",
       "\n",
       "   weighted_avg_vote  weighted_avg_vote_log  popularity_log  \n",
       "0         288516.180              12.572510        4.442086  \n",
       "2         260628.928              12.470857        4.880094  \n",
       "3         225788.995              12.327361        4.393609  "
      ]
     },
     "execution_count": 26,
     "metadata": {},
     "output_type": "execute_result"
    }
   ],
   "source": [
    "df2['weighted_avg_vote'] = df2['vote_average'] * df2['vote_count']\n",
    "cols_to_log = ['weighted_avg_vote', 'popularity']\n",
    "for col in cols_to_log:\n",
    "    df2[col + '_log'] = np.log1p(df2[col].clip(lower=0))\n",
    "\n",
    "df2 = df2.drop('revenue', axis=1)\n",
    "df2.head(3)"
   ]
  },
  {
   "cell_type": "code",
   "execution_count": 27,
   "id": "6af0c505",
   "metadata": {},
   "outputs": [
    {
     "data": {
      "text/plain": [
       "Text(0.5, 1.0, 'QQ Plot of popularity_log')"
      ]
     },
     "execution_count": 27,
     "metadata": {},
     "output_type": "execute_result"
    },
    {
     "data": {
      "image/png": "[encoded data removed]",
      "text/plain": [
       "<Figure size 640x480 with 1 Axes>"
      ]
     },
     "metadata": {},
     "output_type": "display_data"
    }
   ],
   "source": [
    "import statsmodels.api as sm\n",
    "import matplotlib.pyplot as plt\n",
    "\n",
    "sm.qqplot(df2['popularity_log'], line='s')\n",
    "plt.title('QQ Plot of popularity_log')"
   ]
  },
  {
   "cell_type": "code",
   "execution_count": 28,
   "id": "15c62205",
   "metadata": {},
   "outputs": [
    {
     "data": {
      "text/plain": [
       "0"
      ]
     },
     "execution_count": 28,
     "metadata": {},
     "output_type": "execute_result"
    }
   ],
   "source": [
    "df2[df2['popularity'] == 0]['popularity'].count()"
   ]
  },
  {
   "cell_type": "code",
   "execution_count": 29,
   "id": "7411fc13",
   "metadata": {},
   "outputs": [
    {
     "data": {
      "text/plain": [
       "Text(0.5, 1.0, 'QQ Plot of weighted_avg_vote_log')"
      ]
     },
     "execution_count": 29,
     "metadata": {},
     "output_type": "execute_result"
    },
    {
     "data": {
      "image/png": "[encoded data removed]",
      "text/plain": [
       "<Figure size 640x480 with 1 Axes>"
      ]
     },
     "metadata": {},
     "output_type": "display_data"
    }
   ],
   "source": [
    "sm.qqplot(df2['weighted_avg_vote_log'], line='s')\n",
    "plt.title('QQ Plot of weighted_avg_vote_log')"
   ]
  },
  {
   "cell_type": "code",
   "execution_count": 30,
   "id": "623ac71e",
   "metadata": {},
   "outputs": [
    {
     "data": {
      "text/plain": [
       "(110265, 12)"
      ]
     },
     "execution_count": 30,
     "metadata": {},
     "output_type": "execute_result"
    }
   ],
   "source": [
    "df2.shape"
   ]
  },
  {
   "cell_type": "code",
   "execution_count": 31,
   "id": "bef1eac4",
   "metadata": {},
   "outputs": [
    {
     "data": {
      "text/html": [
       "<div>\n",
       "<style scoped>\n",
       "    .dataframe tbody tr th:only-of-type {\n",
       "        vertical-align: middle;\n",
       "    }\n",
       "\n",
       "    .dataframe tbody tr th {\n",
       "        vertical-align: top;\n",
       "    }\n",
       "\n",
       "    .dataframe thead th {\n",
       "        text-align: right;\n",
       "    }\n",
       "</style>\n",
       "<table border=\"1\" class=\"dataframe\">\n",
       "  <thead>\n",
       "    <tr style=\"text-align: right;\">\n",
       "      <th></th>\n",
       "      <th>title</th>\n",
       "      <th>overview</th>\n",
       "      <th>keywords</th>\n",
       "      <th>genres</th>\n",
       "      <th>original_language</th>\n",
       "      <th>spoken_languages</th>\n",
       "      <th>vote_average</th>\n",
       "      <th>vote_count</th>\n",
       "      <th>popularity</th>\n",
       "      <th>weighted_avg_vote</th>\n",
       "      <th>weighted_avg_vote_log</th>\n",
       "      <th>popularity_log</th>\n",
       "    </tr>\n",
       "  </thead>\n",
       "  <tbody>\n",
       "    <tr>\n",
       "      <th>0</th>\n",
       "      <td>Inception</td>\n",
       "      <td>Cobb, a skilled thief who commits corporate es...</td>\n",
       "      <td>[rescue, mission, dream, airplane, paris, fran...</td>\n",
       "      <td>[Action, Science Fiction, Adventure]</td>\n",
       "      <td>[en]</td>\n",
       "      <td>[English, French, Japanese, Swahili]</td>\n",
       "      <td>8.364</td>\n",
       "      <td>34495</td>\n",
       "      <td>83.952</td>\n",
       "      <td>288516.180</td>\n",
       "      <td>12.572510</td>\n",
       "      <td>4.442086</td>\n",
       "    </tr>\n",
       "    <tr>\n",
       "      <th>2</th>\n",
       "      <td>The Dark Knight</td>\n",
       "      <td>Batman raises the stakes in his war on crime. ...</td>\n",
       "      <td>[joker, sadism, chaos, secret identity, crime ...</td>\n",
       "      <td>[Drama, Action, Crime, Thriller]</td>\n",
       "      <td>[en]</td>\n",
       "      <td>[English, Mandarin]</td>\n",
       "      <td>8.512</td>\n",
       "      <td>30619</td>\n",
       "      <td>130.643</td>\n",
       "      <td>260628.928</td>\n",
       "      <td>12.470857</td>\n",
       "      <td>4.880094</td>\n",
       "    </tr>\n",
       "    <tr>\n",
       "      <th>3</th>\n",
       "      <td>Avatar</td>\n",
       "      <td>In the 22nd century, a paraplegic Marine is di...</td>\n",
       "      <td>[future, society, culture clash, space travel,...</td>\n",
       "      <td>[Action, Adventure, Fantasy, Science Fiction]</td>\n",
       "      <td>[en]</td>\n",
       "      <td>[English, Spanish]</td>\n",
       "      <td>7.573</td>\n",
       "      <td>29815</td>\n",
       "      <td>79.932</td>\n",
       "      <td>225788.995</td>\n",
       "      <td>12.327361</td>\n",
       "      <td>4.393609</td>\n",
       "    </tr>\n",
       "  </tbody>\n",
       "</table>\n",
       "</div>"
      ],
      "text/plain": [
       "             title                                           overview   \n",
       "0        Inception  Cobb, a skilled thief who commits corporate es...  \\\n",
       "2  The Dark Knight  Batman raises the stakes in his war on crime. ...   \n",
       "3           Avatar  In the 22nd century, a paraplegic Marine is di...   \n",
       "\n",
       "                                            keywords   \n",
       "0  [rescue, mission, dream, airplane, paris, fran...  \\\n",
       "2  [joker, sadism, chaos, secret identity, crime ...   \n",
       "3  [future, society, culture clash, space travel,...   \n",
       "\n",
       "                                          genres original_language   \n",
       "0           [Action, Science Fiction, Adventure]              [en]  \\\n",
       "2               [Drama, Action, Crime, Thriller]              [en]   \n",
       "3  [Action, Adventure, Fantasy, Science Fiction]              [en]   \n",
       "\n",
       "                       spoken_languages  vote_average  vote_count  popularity   \n",
       "0  [English, French, Japanese, Swahili]         8.364       34495      83.952  \\\n",
       "2                   [English, Mandarin]         8.512       30619     130.643   \n",
       "3                    [English, Spanish]         7.573       29815      79.932   \n",
       "\n",
       "   weighted_avg_vote  weighted_avg_vote_log  popularity_log  \n",
       "0         288516.180              12.572510        4.442086  \n",
       "2         260628.928              12.470857        4.880094  \n",
       "3         225788.995              12.327361        4.393609  "
      ]
     },
     "execution_count": 31,
     "metadata": {},
     "output_type": "execute_result"
    }
   ],
   "source": [
    "df2['overview'] = df2['overview'].apply(lambda x: ' '.join(x))\n",
    "df2['title'] = df2['title'].apply(lambda x: ' '.join(x))\n",
    "df2.head(3)"
   ]
  },
  {
   "cell_type": "code",
   "execution_count": 35,
   "id": "1d5e6f39",
   "metadata": {},
   "outputs": [],
   "source": [
    "df2.to_csv('cleaned_data_v2.csv', index=False)"
   ]
  }
 ],
 "metadata": {
  "kernelspec": {
   "display_name": "tf",
   "language": "python",
   "name": "python3"
  },
  "language_info": {
   "codemirror_mode": {
    "name": "ipython",
    "version": 3
   },
   "file_extension": ".py",
   "mimetype": "text/x-python",
   "name": "python",
   "nbconvert_exporter": "python",
   "pygments_lexer": "ipython3",
   "version": "3.9.21"
  }
 },
 "nbformat": 4,
 "nbformat_minor": 5
}
