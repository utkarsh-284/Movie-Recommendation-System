{
 "cells": [
  {
   "cell_type": "markdown",
   "id": "b784f044",
   "metadata": {},
   "source": [
    "<h1 align='center'>Evaluation</h1>"
   ]
  },
  {
   "cell_type": "code",
   "execution_count": 8,
   "id": "60977417",
   "metadata": {},
   "outputs": [],
   "source": [
    "from sklearn.neighbors import NearestNeighbors\n",
    "import numpy as np\n",
    "import pickle\n",
    "import faiss\n",
    "\n",
    "with open('overview_embeddings.pkl', 'rb') as f:\n",
    "        embeddings = pickle.load(f)\n",
    "\n",
    "# Mock test set\n",
    "test_embeddings = embeddings[:1000]"
   ]
  },
  {
   "cell_type": "code",
   "execution_count": 9,
   "id": "e01a5cda",
   "metadata": {},
   "outputs": [
    {
     "data": {
      "text/plain": [
       "array([[-0.10088539,  0.07117508, -0.0289718 , ..., -0.01160109,\n",
       "         0.0589892 , -0.06030006],\n",
       "       [-0.02430348,  0.00925271, -0.06100011, ..., -0.02184225,\n",
       "         0.05695461,  0.01922566],\n",
       "       [-0.00636554,  0.06156255,  0.03046027, ...,  0.00987918,\n",
       "         0.03299569,  0.00213429],\n",
       "       ...,\n",
       "       [-0.03863252, -0.01697408, -0.00917226, ..., -0.04266263,\n",
       "        -0.01877826,  0.02456542],\n",
       "       [ 0.01505129,  0.09284832, -0.05677039, ...,  0.02402589,\n",
       "         0.08759901, -0.02167096],\n",
       "       [-0.02143573,  0.0115293 , -0.0339081 , ...,  0.07279328,\n",
       "        -0.00549321, -0.0741011 ]], dtype=float32)"
      ]
     },
     "execution_count": 9,
     "metadata": {},
     "output_type": "execute_result"
    }
   ],
   "source": [
    "test_embeddings"
   ]
  },
  {
   "cell_type": "code",
   "execution_count": 10,
   "id": "f342231e",
   "metadata": {},
   "outputs": [],
   "source": [
    "import pandas as pd\n",
    "df = pd.read_csv('cleaned_data.csv')"
   ]
  },
  {
   "cell_type": "code",
   "execution_count": 11,
   "id": "ec5748f6",
   "metadata": {},
   "outputs": [],
   "source": [
    "# Build quantized index\n",
    "\n",
    "index = faiss.IndexIVFPQ(\n",
    "    faiss.IndexFlatIP(384),   # Inner product metric\n",
    "    384,                      # Dimention\n",
    "    1024,                     # Number of Voronoi Cells (nlist)\n",
    "    64,                       # Subquantizers (m)\n",
    "    8                         # Bits per subquantizers\n",
    ")"
   ]
  },
  {
   "cell_type": "code",
   "execution_count": 12,
   "id": "f0d6d548",
   "metadata": {},
   "outputs": [],
   "source": [
    "# Ground Truth Generator\n",
    "\n",
    "def generate_ground_truth(query_idx, k=5):\n",
    "    \"\"\"Based on genre similarity as proxy\"\"\"\n",
    "    genres = df['genres'].iloc[query_idx]\n",
    "    similar = df[df['genres'].str.contains(genres.split(',')[0], regex=False)].index.tolist()\n",
    "    return similar[:k]"
   ]
  },
  {
   "cell_type": "code",
   "execution_count": 13,
   "id": "05b4df12",
   "metadata": {},
   "outputs": [],
   "source": [
    "# Precision @ k calculator\n",
    "\n",
    "def precision_at_k(query_idx, recommendations, k=5):\n",
    "    true_positives = set(generate_ground_truth(query_idx)) & set(recommendations[:k])\n",
    "    return len(true_positives) / k"
   ]
  },
  {
   "cell_type": "code",
   "execution_count": 18,
   "id": "90d72f11",
   "metadata": {},
   "outputs": [
    {
     "name": "stdout",
     "output_type": "stream",
     "text": [
      "Precision@5: 0.0\n"
     ]
    }
   ],
   "source": [
    "# Test evaluation\n",
    "query_index = 27\n",
    "_, indices = index.search(test_embeddings[query_index:query_index+1], 10)\n",
    "print(f\"Precision@5: {precision_at_k(query_index, indices[0])}\")"
   ]
  }
 ],
 "metadata": {
  "kernelspec": {
   "display_name": "tf",
   "language": "python",
   "name": "python3"
  },
  "language_info": {
   "codemirror_mode": {
    "name": "ipython",
    "version": 3
   },
   "file_extension": ".py",
   "mimetype": "text/x-python",
   "name": "python",
   "nbconvert_exporter": "python",
   "pygments_lexer": "ipython3",
   "version": "3.9.21"
  }
 },
 "nbformat": 4,
 "nbformat_minor": 5
}
