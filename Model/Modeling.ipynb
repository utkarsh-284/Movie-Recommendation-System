{
 "cells": [
  {
   "cell_type": "markdown",
   "id": "a51f3175",
   "metadata": {},
   "source": [
    "<h1 align='center'>Embedding Extraction</h1>"
   ]
  },
  {
   "cell_type": "code",
   "execution_count": 1,
   "id": "fd8f75d6",
   "metadata": {},
   "outputs": [],
   "source": [
    "import pandas as pd\n",
    "import numpy as np\n",
    "import pickle\n",
    "import faiss\n",
    "import joblib"
   ]
  },
  {
   "cell_type": "code",
   "execution_count": 2,
   "id": "d3b91a64",
   "metadata": {},
   "outputs": [
    {
     "data": {
      "text/html": [
       "<div>\n",
       "<style scoped>\n",
       "    .dataframe tbody tr th:only-of-type {\n",
       "        vertical-align: middle;\n",
       "    }\n",
       "\n",
       "    .dataframe tbody tr th {\n",
       "        vertical-align: top;\n",
       "    }\n",
       "\n",
       "    .dataframe thead th {\n",
       "        text-align: right;\n",
       "    }\n",
       "</style>\n",
       "<table border=\"1\" class=\"dataframe\">\n",
       "  <thead>\n",
       "    <tr style=\"text-align: right;\">\n",
       "      <th></th>\n",
       "      <th>title</th>\n",
       "      <th>overview</th>\n",
       "      <th>keywords</th>\n",
       "      <th>genres</th>\n",
       "      <th>original_language</th>\n",
       "      <th>spoken_languages</th>\n",
       "      <th>vote_average</th>\n",
       "      <th>vote_count</th>\n",
       "      <th>popularity</th>\n",
       "      <th>weighted_avg_vote</th>\n",
       "      <th>weighted_avg_vote_log</th>\n",
       "      <th>popularity_log</th>\n",
       "    </tr>\n",
       "  </thead>\n",
       "  <tbody>\n",
       "    <tr>\n",
       "      <th>0</th>\n",
       "      <td>Inception</td>\n",
       "      <td>Cobb, a skilled thief who commits corporate es...</td>\n",
       "      <td>['rescue', 'mission', 'dream', 'airplane', 'pa...</td>\n",
       "      <td>['Action', 'Science Fiction', 'Adventure']</td>\n",
       "      <td>['en']</td>\n",
       "      <td>['English', 'French', 'Japanese', 'Swahili']</td>\n",
       "      <td>8.364</td>\n",
       "      <td>34495</td>\n",
       "      <td>83.952</td>\n",
       "      <td>288516.180</td>\n",
       "      <td>12.572510</td>\n",
       "      <td>4.442086</td>\n",
       "    </tr>\n",
       "    <tr>\n",
       "      <th>1</th>\n",
       "      <td>The Dark Knight</td>\n",
       "      <td>Batman raises the stakes in his war on crime. ...</td>\n",
       "      <td>['joker', 'sadism', 'chaos', 'secret identity'...</td>\n",
       "      <td>['Drama', 'Action', 'Crime', 'Thriller']</td>\n",
       "      <td>['en']</td>\n",
       "      <td>['English', 'Mandarin']</td>\n",
       "      <td>8.512</td>\n",
       "      <td>30619</td>\n",
       "      <td>130.643</td>\n",
       "      <td>260628.928</td>\n",
       "      <td>12.470857</td>\n",
       "      <td>4.880094</td>\n",
       "    </tr>\n",
       "    <tr>\n",
       "      <th>2</th>\n",
       "      <td>Avatar</td>\n",
       "      <td>In the 22nd century, a paraplegic Marine is di...</td>\n",
       "      <td>['future', 'society', 'culture clash', 'space ...</td>\n",
       "      <td>['Action', 'Adventure', 'Fantasy', 'Science Fi...</td>\n",
       "      <td>['en']</td>\n",
       "      <td>['English', 'Spanish']</td>\n",
       "      <td>7.573</td>\n",
       "      <td>29815</td>\n",
       "      <td>79.932</td>\n",
       "      <td>225788.995</td>\n",
       "      <td>12.327361</td>\n",
       "      <td>4.393609</td>\n",
       "    </tr>\n",
       "  </tbody>\n",
       "</table>\n",
       "</div>"
      ],
      "text/plain": [
       "             title                                           overview   \n",
       "0        Inception  Cobb, a skilled thief who commits corporate es...  \\\n",
       "1  The Dark Knight  Batman raises the stakes in his war on crime. ...   \n",
       "2           Avatar  In the 22nd century, a paraplegic Marine is di...   \n",
       "\n",
       "                                            keywords   \n",
       "0  ['rescue', 'mission', 'dream', 'airplane', 'pa...  \\\n",
       "1  ['joker', 'sadism', 'chaos', 'secret identity'...   \n",
       "2  ['future', 'society', 'culture clash', 'space ...   \n",
       "\n",
       "                                              genres original_language   \n",
       "0         ['Action', 'Science Fiction', 'Adventure']            ['en']  \\\n",
       "1           ['Drama', 'Action', 'Crime', 'Thriller']            ['en']   \n",
       "2  ['Action', 'Adventure', 'Fantasy', 'Science Fi...            ['en']   \n",
       "\n",
       "                               spoken_languages  vote_average  vote_count   \n",
       "0  ['English', 'French', 'Japanese', 'Swahili']         8.364       34495  \\\n",
       "1                       ['English', 'Mandarin']         8.512       30619   \n",
       "2                        ['English', 'Spanish']         7.573       29815   \n",
       "\n",
       "   popularity  weighted_avg_vote  weighted_avg_vote_log  popularity_log  \n",
       "0      83.952         288516.180              12.572510        4.442086  \n",
       "1     130.643         260628.928              12.470857        4.880094  \n",
       "2      79.932         225788.995              12.327361        4.393609  "
      ]
     },
     "execution_count": 2,
     "metadata": {},
     "output_type": "execute_result"
    }
   ],
   "source": [
    "df = pd.read_csv('cleaned_data_v2.csv')\n",
    "df.head(3)"
   ]
  },
  {
   "cell_type": "code",
   "execution_count": 3,
   "id": "8773d0f1",
   "metadata": {},
   "outputs": [],
   "source": [
    "df['text'] = df['title'] + ' ' + df['keywords'] + ' ' +\tdf['genres'] + ' ' + df['original_language'] + ' ' + df['spoken_languages'] + ' ' + df['overview']"
   ]
  },
  {
   "cell_type": "code",
   "execution_count": 4,
   "id": "2a3847a4",
   "metadata": {},
   "outputs": [
    {
     "name": "stderr",
     "output_type": "stream",
     "text": [
      "c:\\Users\\Utkarsh\\miniconda3\\envs\\tf\\lib\\site-packages\\tqdm\\auto.py:21: TqdmWarning: IProgress not found. Please update jupyter and ipywidgets. See https://ipywidgets.readthedocs.io/en/stable/user_install.html\n",
      "  from .autonotebook import tqdm as notebook_tqdm\n",
      "Batches: 100%|██████████| 3446/3446 [30:12<00:00,  1.90it/s]\n"
     ]
    }
   ],
   "source": [
    "from sentence_transformers import SentenceTransformer\n",
    "\n",
    "model = SentenceTransformer('sentence-transformers/all-MiniLM-L6-v2')\n",
    "text_embeddings =model.encode(df['text'].tolist(),\n",
    "                                  show_progress_bar=True)"
   ]
  },
  {
   "cell_type": "code",
   "execution_count": 5,
   "id": "ddf66257",
   "metadata": {},
   "outputs": [],
   "source": [
    "# Normalie vectors for cosine similarities\n",
    "faiss.normalize_L2(text_embeddings)"
   ]
  },
  {
   "cell_type": "code",
   "execution_count": 6,
   "id": "ffc42f99",
   "metadata": {},
   "outputs": [
    {
     "data": {
      "text/plain": [
       "array([[-0.0357994 , -0.02774584, -0.01180475, ...,  0.03280392,\n",
       "        -0.0139987 , -0.02733093],\n",
       "       [-0.0146964 , -0.05817799, -0.07252546, ..., -0.01600985,\n",
       "         0.02771219,  0.0389316 ],\n",
       "       [-0.00307021, -0.02521594,  0.06083349, ...,  0.01398388,\n",
       "        -0.02339387,  0.02808953],\n",
       "       ...,\n",
       "       [-0.02598427, -0.06881675, -0.01877942, ...,  0.05031431,\n",
       "        -0.02529542,  0.04412768],\n",
       "       [-0.02374344,  0.02367551, -0.04123709, ...,  0.03113052,\n",
       "         0.00662624,  0.00464557],\n",
       "       [-0.05398469,  0.01938047, -0.00567989, ...,  0.04980075,\n",
       "        -0.05352924,  0.04732918]], dtype=float32)"
      ]
     },
     "execution_count": 6,
     "metadata": {},
     "output_type": "execute_result"
    }
   ],
   "source": [
    "text_embeddings"
   ]
  },
  {
   "cell_type": "code",
   "execution_count": 7,
   "id": "9ad085ef",
   "metadata": {},
   "outputs": [],
   "source": [
    "with open('embeddings_v02.pkl', 'wb') as f:\n",
    "    pickle.dump(text_embeddings, f)"
   ]
  },
  {
   "cell_type": "code",
   "execution_count": 4,
   "id": "267f8cc9",
   "metadata": {},
   "outputs": [],
   "source": [
    "with open('embeddings_v02.pkl', 'rb') as f:\n",
    "    embeddings = pickle.load(f)"
   ]
  },
  {
   "cell_type": "code",
   "execution_count": 5,
   "id": "990acb3b",
   "metadata": {},
   "outputs": [
    {
     "name": "stdout",
     "output_type": "stream",
     "text": [
      "shape:  (110265, 384)\n",
      "dtype:  float32\n"
     ]
    }
   ],
   "source": [
    "print('shape: ', embeddings.shape)\n",
    "print('dtype: ', embeddings.dtype)"
   ]
  },
  {
   "cell_type": "code",
   "execution_count": 6,
   "id": "73c83454",
   "metadata": {},
   "outputs": [],
   "source": [
    "# Build quantized index\n",
    "\n",
    "index = faiss.IndexIVFPQ(\n",
    "    faiss.IndexFlatIP(384),   # Inner product metric\n",
    "    384,                      # Dimention\n",
    "    1024,                     # Number of Voronoi Cells (nlist)\n",
    "    64,                       # Subquantizers (m)\n",
    "    8                         # Bits per subquantizers\n",
    ")"
   ]
  },
  {
   "cell_type": "code",
   "execution_count": 7,
   "id": "3c283109",
   "metadata": {},
   "outputs": [],
   "source": [
    "index.train(embeddings)\n",
    "index.add(embeddings)"
   ]
  },
  {
   "cell_type": "code",
   "execution_count": 8,
   "id": "7d284af0",
   "metadata": {},
   "outputs": [],
   "source": [
    "# Search for top k similar movies\n",
    "query_index = 284\n",
    "k = 10\n",
    "distances, indices = index.search(embeddings[query_index:query_index+1], k)"
   ]
  },
  {
   "cell_type": "code",
   "execution_count": 9,
   "id": "65f7b047",
   "metadata": {},
   "outputs": [
    {
     "name": "stdout",
     "output_type": "stream",
     "text": [
      "title                               Hotel Transylvania\n",
      "genres    ['Animation', 'Comedy', 'Family', 'Fantasy']\n",
      "Name: 284, dtype: object\n",
      "title                             Hotel Transylvania 2\n",
      "genres    ['Animation', 'Comedy', 'Family', 'Fantasy']\n",
      "Name: 576, dtype: object\n",
      "title            Hotel Transylvania 3: Summer Vacation\n",
      "genres    ['Animation', 'Comedy', 'Family', 'Fantasy']\n",
      "Name: 809, dtype: object\n",
      "title     The Halloween That Almost Wasn't\n",
      "genres      ['Horror', 'Comedy', 'Family']\n",
      "Name: 66879, dtype: object\n",
      "title     The Lively Vampires of Vögel\n",
      "genres            ['Comedy', 'Horror']\n",
      "Name: 87593, dtype: object\n",
      "title            Dracula Sucks\n",
      "genres    ['Comedy', 'Horror']\n",
      "Name: 32408, dtype: object\n",
      "title                     Hotel Transylvania: Transformania\n",
      "genres    ['Animation', 'Comedy', 'Family', 'Adventure',...\n",
      "Name: 2079, dtype: object\n",
      "title                Subspecies\n",
      "genres    ['Horror', 'Fantasy']\n",
      "Name: 14470, dtype: object\n",
      "title                 Dracula's Daughter\n",
      "genres    ['Drama', 'Fantasy', 'Horror']\n",
      "Name: 11011, dtype: object\n",
      "title     The Dracula Saga\n",
      "genres          ['Horror']\n",
      "Name: 50312, dtype: object\n"
     ]
    }
   ],
   "source": [
    "for i in indices[0]:\n",
    "    print(df.loc[i, ['title', 'genres']])"
   ]
  },
  {
   "cell_type": "code",
   "execution_count": 10,
   "id": "6b5929c7",
   "metadata": {},
   "outputs": [
    {
     "data": {
      "text/plain": [
       "['movie_recommender_v02.joblib']"
      ]
     },
     "execution_count": 10,
     "metadata": {},
     "output_type": "execute_result"
    }
   ],
   "source": [
    "# Using compressed version of joblib to make docker image lighter\n",
    "joblib.dump(\n",
    "    {\n",
    "        'df': df,\n",
    "        'embeddings': embeddings,\n",
    "        'index': index\n",
    "    },\n",
    "    'movie_recommender_v02.joblib',\n",
    "    compress=('lz4', 3)\n",
    ")"
   ]
  },
  {
   "cell_type": "code",
   "execution_count": 13,
   "id": "3c3934ee",
   "metadata": {},
   "outputs": [
    {
     "name": "stdout",
     "output_type": "stream",
     "text": [
      "Collecting lz4\n",
      "  Downloading lz4-4.4.4-cp39-cp39-win_amd64.whl.metadata (3.9 kB)\n",
      "Downloading lz4-4.4.4-cp39-cp39-win_amd64.whl (99 kB)\n",
      "Installing collected packages: lz4\n",
      "Successfully installed lz4-4.4.4\n"
     ]
    }
   ],
   "source": [
    "!pip install lz4"
   ]
  },
  {
   "cell_type": "markdown",
   "id": "aed0ace7",
   "metadata": {},
   "source": [
    "# `overview` Embeddings"
   ]
  },
  {
   "cell_type": "code",
   "execution_count": 16,
   "id": "7206a826",
   "metadata": {},
   "outputs": [
    {
     "name": "stderr",
     "output_type": "stream",
     "text": [
      "Batches: 100%|██████████| 3446/3446 [18:49<00:00,  3.05it/s]\n"
     ]
    }
   ],
   "source": [
    "from sentence_transformers import SentenceTransformer\n",
    "\n",
    "model = SentenceTransformer('sentence-transformers/all-MiniLM-L6-v2')\n",
    "overview_embeddings =model.encode(df['overview'].tolist(),\n",
    "                                  show_progress_bar=True)"
   ]
  },
  {
   "cell_type": "code",
   "execution_count": 17,
   "id": "d087cba5",
   "metadata": {},
   "outputs": [
    {
     "data": {
      "text/plain": [
       "array([[-0.10088539,  0.07117508, -0.0289718 , ..., -0.01160109,\n",
       "         0.0589892 , -0.06030006],\n",
       "       [-0.02430348,  0.00925271, -0.06100011, ..., -0.02184225,\n",
       "         0.05695461,  0.01922566],\n",
       "       [-0.00636554,  0.06156255,  0.03046027, ...,  0.00987918,\n",
       "         0.03299569,  0.00213429],\n",
       "       ...,\n",
       "       [-0.04632293, -0.05000658, -0.02211937, ...,  0.01589813,\n",
       "        -0.01267236,  0.05453489],\n",
       "       [-0.0231142 ,  0.07574666, -0.02869395, ...,  0.05317041,\n",
       "         0.02263007, -0.0564732 ],\n",
       "       [-0.01679474,  0.10613248, -0.01274135, ..., -0.02384875,\n",
       "        -0.03770639,  0.08151328]], dtype=float32)"
      ]
     },
     "execution_count": 17,
     "metadata": {},
     "output_type": "execute_result"
    }
   ],
   "source": [
    "faiss.normalize_L2(overview_embeddings)\n",
    "overview_embeddings"
   ]
  },
  {
   "cell_type": "code",
   "execution_count": 19,
   "id": "94b9b6d7",
   "metadata": {},
   "outputs": [],
   "source": [
    "with open('overview_embeddings.pkl', 'wb') as f:\n",
    "    pickle.dump(overview_embeddings, f)"
   ]
  },
  {
   "cell_type": "code",
   "execution_count": 20,
   "id": "ab43bb2f",
   "metadata": {},
   "outputs": [],
   "source": [
    "with open('overview_embeddings.pkl', 'rb') as f:\n",
    "    overview_embd = pickle.load(f)"
   ]
  },
  {
   "cell_type": "code",
   "execution_count": 21,
   "id": "247f5fc7",
   "metadata": {},
   "outputs": [],
   "source": [
    "# Build quantized index\n",
    "\n",
    "index = faiss.IndexIVFPQ(\n",
    "    faiss.IndexFlatIP(384),   # Inner product metric\n",
    "    384,                      # Dimention\n",
    "    1024,                     # Number of Voronoi Cells (nlist)\n",
    "    64,                       # Subquantizers (m)\n",
    "    8                         # Bits per subquantizers\n",
    ")"
   ]
  },
  {
   "cell_type": "code",
   "execution_count": 22,
   "id": "1b2982c3",
   "metadata": {},
   "outputs": [],
   "source": [
    "index.train(overview_embd)\n",
    "index.add(overview_embd)"
   ]
  },
  {
   "cell_type": "code",
   "execution_count": 23,
   "id": "2ccc9104",
   "metadata": {},
   "outputs": [],
   "source": [
    "# Search for top k similar movies\n",
    "query_index = 284\n",
    "k = 10\n",
    "distances, indices = index.search(overview_embd[query_index:query_index+1], k)"
   ]
  },
  {
   "cell_type": "code",
   "execution_count": 24,
   "id": "1119f7f8",
   "metadata": {},
   "outputs": [
    {
     "name": "stdout",
     "output_type": "stream",
     "text": [
      "title                               Hotel Transylvania\n",
      "genres    ['Animation', 'Comedy', 'Family', 'Fantasy']\n",
      "Name: 284, dtype: object\n",
      "title                             Hotel Transylvania 2\n",
      "genres    ['Animation', 'Comedy', 'Family', 'Fantasy']\n",
      "Name: 576, dtype: object\n",
      "title     The Halloween That Almost Wasn't\n",
      "genres      ['Horror', 'Comedy', 'Family']\n",
      "Name: 66879, dtype: object\n",
      "title            Hotel Transylvania 3: Summer Vacation\n",
      "genres    ['Animation', 'Comedy', 'Family', 'Fantasy']\n",
      "Name: 809, dtype: object\n",
      "title                     Dracula and Son\n",
      "genres    ['Fantasy', 'Comedy', 'Horror']\n",
      "Name: 38780, dtype: object\n",
      "title     The Dracula Saga\n",
      "genres          ['Horror']\n",
      "Name: 50312, dtype: object\n",
      "title     Ghost Bride of Dracula\n",
      "genres                ['Horror']\n",
      "Name: 81467, dtype: object\n",
      "title     The Lively Vampires of Vögel\n",
      "genres            ['Comedy', 'Horror']\n",
      "Name: 87593, dtype: object\n",
      "title        Story of My Death\n",
      "genres    ['History', 'Drama']\n",
      "Name: 31246, dtype: object\n",
      "title     Dracula Bites the Big Apple\n",
      "genres           ['Comedy', 'Horror']\n",
      "Name: 109002, dtype: object\n"
     ]
    }
   ],
   "source": [
    "for i in indices[0]:\n",
    "    print(df.loc[i, ['title', 'genres']])"
   ]
  },
  {
   "cell_type": "code",
   "execution_count": 25,
   "id": "30d2fdf2",
   "metadata": {},
   "outputs": [],
   "source": [
    "with open('faiss_index.pkl', 'wb') as f:\n",
    "    pickle.dump(index, f)\n",
    "\n",
    "with open('movie_recommender_v03.pkl', 'wb') as f:\n",
    "    pickle.dump({\n",
    "        'df': df,\n",
    "        'embeddings': overview_embd,\n",
    "        'index': index\n",
    "    }, f)"
   ]
  }
 ],
 "metadata": {
  "kernelspec": {
   "display_name": "tf",
   "language": "python",
   "name": "python3"
  },
  "language_info": {
   "codemirror_mode": {
    "name": "ipython",
    "version": 3
   },
   "file_extension": ".py",
   "mimetype": "text/x-python",
   "name": "python",
   "nbconvert_exporter": "python",
   "pygments_lexer": "ipython3",
   "version": "3.9.21"
  }
 },
 "nbformat": 4,
 "nbformat_minor": 5
}
